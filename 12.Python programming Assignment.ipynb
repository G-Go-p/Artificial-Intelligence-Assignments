{
 "cells": [
  {
   "cell_type": "code",
   "execution_count": 2,
   "id": "8994c2e2-0312-44aa-b85c-aa36ba2517f2",
   "metadata": {},
   "outputs": [],
   "source": [
    "import pandas as pd\n",
    "\n",
    "# Load the CSV\n",
    "df = pd.read_csv(r\"C:\\Users\\ASUS\\Downloads\\employee.csv\", parse_dates=[\"Date of Joining\"], dayfirst=True)\n"
   ]
  },
  {
   "cell_type": "code",
   "execution_count": 3,
   "id": "193cc993-fd09-411b-a863-533436ffe68f",
   "metadata": {},
   "outputs": [
    {
     "data": {
      "text/html": [
       "<div>\n",
       "<style scoped>\n",
       "    .dataframe tbody tr th:only-of-type {\n",
       "        vertical-align: middle;\n",
       "    }\n",
       "\n",
       "    .dataframe tbody tr th {\n",
       "        vertical-align: top;\n",
       "    }\n",
       "\n",
       "    .dataframe thead th {\n",
       "        text-align: right;\n",
       "    }\n",
       "</style>\n",
       "<table border=\"1\" class=\"dataframe\">\n",
       "  <thead>\n",
       "    <tr style=\"text-align: right;\">\n",
       "      <th></th>\n",
       "      <th>EID</th>\n",
       "      <th>Employee Name</th>\n",
       "      <th>Gender</th>\n",
       "      <th>Salary</th>\n",
       "      <th>Date of Joining</th>\n",
       "      <th>Department</th>\n",
       "    </tr>\n",
       "  </thead>\n",
       "  <tbody>\n",
       "    <tr>\n",
       "      <th>0</th>\n",
       "      <td>E123D</td>\n",
       "      <td>Nitin Bhole</td>\n",
       "      <td>M</td>\n",
       "      <td>1900000</td>\n",
       "      <td>2016-11-01</td>\n",
       "      <td>Products</td>\n",
       "    </tr>\n",
       "    <tr>\n",
       "      <th>1</th>\n",
       "      <td>E876G</td>\n",
       "      <td>Mayur Kulkarni</td>\n",
       "      <td>M</td>\n",
       "      <td>1200000</td>\n",
       "      <td>2016-06-03</td>\n",
       "      <td>Semantics</td>\n",
       "    </tr>\n",
       "    <tr>\n",
       "      <th>2</th>\n",
       "      <td>E798G</td>\n",
       "      <td>Anurag Pandey</td>\n",
       "      <td>M</td>\n",
       "      <td>1200000</td>\n",
       "      <td>2016-07-04</td>\n",
       "      <td>IT</td>\n",
       "    </tr>\n",
       "    <tr>\n",
       "      <th>3</th>\n",
       "      <td>E123B</td>\n",
       "      <td>Pankaj Bansal</td>\n",
       "      <td>M</td>\n",
       "      <td>900000</td>\n",
       "      <td>2015-12-01</td>\n",
       "      <td>Research</td>\n",
       "    </tr>\n",
       "    <tr>\n",
       "      <th>4</th>\n",
       "      <td>E098Z</td>\n",
       "      <td>Rajendra Prabhu</td>\n",
       "      <td>M</td>\n",
       "      <td>1000000</td>\n",
       "      <td>2015-11-11</td>\n",
       "      <td>Semantics</td>\n",
       "    </tr>\n",
       "    <tr>\n",
       "      <th>5</th>\n",
       "      <td>E294M</td>\n",
       "      <td>Sumanth Mishra</td>\n",
       "      <td>M</td>\n",
       "      <td>1800000</td>\n",
       "      <td>2017-09-04</td>\n",
       "      <td>Research</td>\n",
       "    </tr>\n",
       "    <tr>\n",
       "      <th>6</th>\n",
       "      <td>E972L</td>\n",
       "      <td>Sai Bodha</td>\n",
       "      <td>M</td>\n",
       "      <td>1100000</td>\n",
       "      <td>2017-11-11</td>\n",
       "      <td>Semantics</td>\n",
       "    </tr>\n",
       "    <tr>\n",
       "      <th>7</th>\n",
       "      <td>E184A</td>\n",
       "      <td>Kushmakar Krishna</td>\n",
       "      <td>M</td>\n",
       "      <td>1100000</td>\n",
       "      <td>2015-01-01</td>\n",
       "      <td>Products</td>\n",
       "    </tr>\n",
       "    <tr>\n",
       "      <th>8</th>\n",
       "      <td>E104S</td>\n",
       "      <td>Amarnath Patil</td>\n",
       "      <td>M</td>\n",
       "      <td>600000</td>\n",
       "      <td>2015-11-29</td>\n",
       "      <td>Engineering</td>\n",
       "    </tr>\n",
       "    <tr>\n",
       "      <th>9</th>\n",
       "      <td>E093V</td>\n",
       "      <td>Shashidhar Reddy</td>\n",
       "      <td>M</td>\n",
       "      <td>700000</td>\n",
       "      <td>2018-11-29</td>\n",
       "      <td>Engineering</td>\n",
       "    </tr>\n",
       "    <tr>\n",
       "      <th>10</th>\n",
       "      <td>E983Q</td>\n",
       "      <td>Chakshu Bansal</td>\n",
       "      <td>F</td>\n",
       "      <td>300000</td>\n",
       "      <td>2017-12-04</td>\n",
       "      <td>Products</td>\n",
       "    </tr>\n",
       "    <tr>\n",
       "      <th>11</th>\n",
       "      <td>E092E</td>\n",
       "      <td>Mitali Gupta</td>\n",
       "      <td>F</td>\n",
       "      <td>1600000</td>\n",
       "      <td>2019-05-02</td>\n",
       "      <td>Semantics</td>\n",
       "    </tr>\n",
       "    <tr>\n",
       "      <th>12</th>\n",
       "      <td>E620Y</td>\n",
       "      <td>Kumar Abhishek</td>\n",
       "      <td>M</td>\n",
       "      <td>1100000</td>\n",
       "      <td>2014-12-01</td>\n",
       "      <td>Semantics</td>\n",
       "    </tr>\n",
       "    <tr>\n",
       "      <th>13</th>\n",
       "      <td>E109U</td>\n",
       "      <td>Sanket Gibbidi</td>\n",
       "      <td>M</td>\n",
       "      <td>5000000</td>\n",
       "      <td>2019-01-11</td>\n",
       "      <td>Products</td>\n",
       "    </tr>\n",
       "  </tbody>\n",
       "</table>\n",
       "</div>"
      ],
      "text/plain": [
       "      EID      Employee Name Gender   Salary Date of Joining   Department\n",
       "0   E123D        Nitin Bhole      M  1900000      2016-11-01     Products\n",
       "1   E876G     Mayur Kulkarni      M  1200000      2016-06-03    Semantics\n",
       "2   E798G      Anurag Pandey      M  1200000      2016-07-04           IT\n",
       "3   E123B      Pankaj Bansal      M   900000      2015-12-01     Research\n",
       "4   E098Z    Rajendra Prabhu      M  1000000      2015-11-11    Semantics\n",
       "5   E294M     Sumanth Mishra      M  1800000      2017-09-04     Research\n",
       "6   E972L          Sai Bodha      M  1100000      2017-11-11    Semantics\n",
       "7   E184A  Kushmakar Krishna      M  1100000      2015-01-01     Products\n",
       "8   E104S     Amarnath Patil      M   600000      2015-11-29  Engineering\n",
       "9   E093V   Shashidhar Reddy      M   700000      2018-11-29  Engineering\n",
       "10  E983Q     Chakshu Bansal      F   300000      2017-12-04     Products\n",
       "11  E092E       Mitali Gupta      F  1600000      2019-05-02    Semantics\n",
       "12  E620Y     Kumar Abhishek      M  1100000      2014-12-01    Semantics\n",
       "13  E109U     Sanket Gibbidi      M  5000000      2019-01-11     Products"
      ]
     },
     "execution_count": 3,
     "metadata": {},
     "output_type": "execute_result"
    }
   ],
   "source": [
    "df"
   ]
  },
  {
   "cell_type": "code",
   "execution_count": 4,
   "id": "2154a585-f667-428d-a2f0-b7697165542d",
   "metadata": {},
   "outputs": [],
   "source": [
    "# 1. Greet employee by EID with their first name and salutation\n",
    "def greet_employee(eid):\n",
    "    emp = df[df['EID'] == eid]\n",
    "    if emp.empty:\n",
    "        return \"Employee not found.\"\n",
    "    \n",
    "    name = emp.iloc[0]['Employee Name']\n",
    "    gender = emp.iloc[0]['Gender']\n",
    "    first_name = name.split()[0]\n",
    "\n",
    "    if gender.lower() == \"male\":\n",
    "        return f\"Hello, Mr {first_name}\"\n",
    "    elif gender.lower() == \"female\":\n",
    "        return f\"Hello, Ms {first_name}\"\n",
    "    else:\n",
    "        return f\"Hello, {first_name}\""
   ]
  },
  {
   "cell_type": "code",
   "execution_count": 8,
   "id": "eac8363a-5d42-4fcb-8bcc-6695151be613",
   "metadata": {},
   "outputs": [
    {
     "data": {
      "text/plain": [
       "'Hello, Nitin'"
      ]
     },
     "execution_count": 8,
     "metadata": {},
     "output_type": "execute_result"
    }
   ],
   "source": [
    "greet_employee(\"E123D\")"
   ]
  },
  {
   "cell_type": "code",
   "execution_count": 5,
   "id": "a9094ac1-15e4-4f46-8fa1-e65513a9874f",
   "metadata": {},
   "outputs": [],
   "source": [
    "# 2. Calculate average salary of each department\n",
    "def average_salary_by_department():\n",
    "    return df.groupby(\"Department\")[\"Salary\"].mean()"
   ]
  },
  {
   "cell_type": "code",
   "execution_count": 6,
   "id": "b20f4f7e-afc2-4f4f-a1eb-6bf8c2942f2f",
   "metadata": {},
   "outputs": [],
   "source": [
    "# 3. Given an EID, return name, joining date, and department\n",
    "def employee_details(eid):\n",
    "    emp = df[df['EID'] == eid]\n",
    "    if emp.empty:\n",
    "        return \"Employee not found.\"\n",
    "    \n",
    "    name = emp.iloc[0][\"Employee Name\"]\n",
    "    doj = emp.iloc[0][\"Date of Joining\"].strftime(\"%d-%m-%Y\")\n",
    "    dept = emp.iloc[0][\"Department\"]\n",
    "    return f\"{name} | {doj} | {dept}\""
   ]
  },
  {
   "cell_type": "code",
   "execution_count": 9,
   "id": "6588f427-7e7c-4893-b86b-a2a6f925e75a",
   "metadata": {},
   "outputs": [
    {
     "data": {
      "text/plain": [
       "'Nitin Bhole | 01-11-2016 | Products'"
      ]
     },
     "execution_count": 9,
     "metadata": {},
     "output_type": "execute_result"
    }
   ],
   "source": [
    "employee_details(\"E123D\")"
   ]
  },
  {
   "cell_type": "code",
   "execution_count": 7,
   "id": "13ef55fb-63ae-4119-a948-cefd6f1a096d",
   "metadata": {},
   "outputs": [],
   "source": [
    "# 4. Sort employees from oldest to newest\n",
    "def sort_by_joining_date():\n",
    "    sorted_df = df.sort_values(by=\"Date of Joining\")\n",
    "    return sorted_df[[\"EID\", \"Employee Name\", \"Date of Joining\"]]\n"
   ]
  },
  {
   "cell_type": "code",
   "execution_count": null,
   "id": "7dc3d96c-38db-4134-af86-4c2269f7079c",
   "metadata": {},
   "outputs": [],
   "source": []
  }
 ],
 "metadata": {
  "kernelspec": {
   "display_name": "Python 3 (ipykernel)",
   "language": "python",
   "name": "python3"
  },
  "language_info": {
   "codemirror_mode": {
    "name": "ipython",
    "version": 3
   },
   "file_extension": ".py",
   "mimetype": "text/x-python",
   "name": "python",
   "nbconvert_exporter": "python",
   "pygments_lexer": "ipython3",
   "version": "3.11.7"
  }
 },
 "nbformat": 4,
 "nbformat_minor": 5
}
