{
 "cells": [
  {
   "cell_type": "markdown",
   "id": "5a1fc5dc",
   "metadata": {},
   "source": [
    "# Mountain Car Q-learning Agent\n",
    "\n",
    "Train an agent on the MountainCar-v0 environment using the Q-learning algorithm with a discretized state space."
   ]
  },
  {
   "cell_type": "code",
   "execution_count": null,
   "id": "5310bc63",
   "metadata": {},
   "outputs": [],
   "source": [
    "# Install required packages\n",
    "!pip install gym numpy matplotlib"
   ]
  },
  {
   "cell_type": "code",
   "execution_count": null,
   "id": "928b8af8",
   "metadata": {},
   "outputs": [],
   "source": [
    "import gym\n",
    "import numpy as np\n",
    "import matplotlib.pyplot as plt\n",
    "from collections import defaultdict"
   ]
  },
  {
   "cell_type": "markdown",
   "id": "7ae768eb",
   "metadata": {},
   "source": [
    "## Environment setup and state discretization"
   ]
  },
  {
   "cell_type": "code",
   "execution_count": null,
   "id": "6cb0ebe2",
   "metadata": {},
   "outputs": [],
   "source": [
    "env = gym.make(\"MountainCar-v0\")\n",
    "\n",
    "# Discretization bins for position and velocity\n",
    "n_bins = (18, 14)\n",
    "obs_space_low = env.observation_space.low\n",
    "obs_space_high = env.observation_space.high\n",
    "obs_bins = [np.linspace(obs_space_low[i], obs_space_high[i], n_bins[i] - 1) for i in range(len(n_bins))]\n",
    "\n",
    "def discretize_state(state):\n",
    "    return tuple(np.digitize(s, bins) for s, bins in zip(state, obs_bins))"
   ]
  },
  {
   "cell_type": "markdown",
   "id": "02045d6d",
   "metadata": {},
   "source": [
    "## Initialize Q-table and set hyperparameters"
   ]
  },
  {
   "cell_type": "code",
   "execution_count": null,
   "id": "7e712ccc",
   "metadata": {},
   "outputs": [],
   "source": [
    "q_table = defaultdict(lambda: np.zeros(env.action_space.n))\n",
    "\n",
    "# Hyperparameters\n",
    "alpha = 0.1\n",
    "gamma = 0.99\n",
    "epsilon = 1.0\n",
    "epsilon_decay = 0.995\n",
    "epsilon_min = 0.01\n",
    "episodes = 10000\n",
    "rewards = []"
   ]
  },
  {
   "cell_type": "markdown",
   "id": "75146904",
   "metadata": {},
   "source": [
    "## Training loop"
   ]
  },
  {
   "cell_type": "code",
   "execution_count": null,
   "id": "cb7c47ab",
   "metadata": {},
   "outputs": [],
   "source": [
    "for episode in range(episodes):\n",
    "    state = discretize_state(env.reset()[0])\n",
    "    done = False\n",
    "    total_reward = 0\n",
    "\n",
    "    while not done:\n",
    "        if np.random.random() < epsilon:\n",
    "            action = env.action_space.sample()\n",
    "        else:\n",
    "            action = np.argmax(q_table[state])\n",
    "\n",
    "        next_state_raw, reward, done, _, _ = env.step(action)\n",
    "        next_state = discretize_state(next_state_raw)\n",
    "\n",
    "        old_value = q_table[state][action]\n",
    "        next_max = np.max(q_table[next_state])\n",
    "        q_table[state][action] = old_value + alpha * (reward + gamma * next_max - old_value)\n",
    "\n",
    "        state = next_state\n",
    "        total_reward += reward\n",
    "\n",
    "    if epsilon > epsilon_min:\n",
    "        epsilon *= epsilon_decay\n",
    "\n",
    "    rewards.append(total_reward)\n",
    "\n",
    "    if episode % 1000 == 0:\n",
    "        avg_reward = np.mean(rewards[-1000:])\n",
    "        print(f\"Episode {episode}, Avg Reward: {avg_reward:.2f}, Epsilon: {epsilon:.3f}\")"
   ]
  },
  {
   "cell_type": "markdown",
   "id": "4a1dbc10",
   "metadata": {},
   "source": [
    "## Plot the total reward per episode"
   ]
  },
  {
   "cell_type": "code",
   "execution_count": null,
   "id": "18f1070d",
   "metadata": {},
   "outputs": [],
   "source": [
    "plt.plot(rewards)\n",
    "plt.xlabel(\"Episode\")\n",
    "plt.ylabel(\"Total Reward\")\n",
    "plt.title(\"Q-learning on MountainCar-v0\")\n",
    "plt.grid(True)\n",
    "plt.show()"
   ]
  }
 ],
 "metadata": {
  "kernelspec": {
   "display_name": "Python 3 (ipykernel)",
   "language": "python",
   "name": "python3"
  },
  "language_info": {
   "codemirror_mode": {
    "name": "ipython",
    "version": 3
   },
   "file_extension": ".py",
   "mimetype": "text/x-python",
   "name": "python",
   "nbconvert_exporter": "python",
   "pygments_lexer": "ipython3",
   "version": "3.11.7"
  }
 },
 "nbformat": 4,
 "nbformat_minor": 5
}
