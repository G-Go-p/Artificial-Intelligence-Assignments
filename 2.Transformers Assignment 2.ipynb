{
 "cells": [
  {
   "cell_type": "markdown",
   "id": "5cdcb1d9",
   "metadata": {},
   "source": [
    "# Text Generation with GPT using Hugging Face Transformers\n",
    "\n",
    "This notebook uses a pre-trained GPT model to generate a short story based on a given prompt."
   ]
  },
  {
   "cell_type": "code",
   "execution_count": null,
   "id": "eb88ae81",
   "metadata": {},
   "outputs": [],
   "source": [
    "# Install necessary libraries\n",
    "!pip install transformers torch"
   ]
  },
  {
   "cell_type": "code",
   "execution_count": null,
   "id": "9c9f56c2",
   "metadata": {},
   "outputs": [],
   "source": [
    "# Import required libraries\n",
    "from transformers import pipeline, set_seed\n",
    "import torch"
   ]
  },
  {
   "cell_type": "code",
   "execution_count": null,
   "id": "274d60a0",
   "metadata": {},
   "outputs": [],
   "source": [
    "# Set up the text generation pipeline using GPT-2\n",
    "generator = pipeline('text-generation', model='gpt2')\n",
    "set_seed(42)"
   ]
  },
  {
   "cell_type": "code",
   "execution_count": null,
   "id": "1e8c1f16",
   "metadata": {},
   "outputs": [],
   "source": [
    "# Provide a prompt and generate a short story\n",
    "prompt = \"In a distant future, humanity has discovered\"\n",
    "results = generator(prompt, max_length=100, num_return_sequences=1)\n",
    "\n",
    "print(\"Generated Story:\\n\")\n",
    "print(results[0]['generated_text'])"
   ]
  }
 ],
 "metadata": {
  "kernelspec": {
   "display_name": "Python 3 (ipykernel)",
   "language": "python",
   "name": "python3"
  },
  "language_info": {
   "codemirror_mode": {
    "name": "ipython",
    "version": 3
   },
   "file_extension": ".py",
   "mimetype": "text/x-python",
   "name": "python",
   "nbconvert_exporter": "python",
   "pygments_lexer": "ipython3",
   "version": "3.11.7"
  }
 },
 "nbformat": 4,
 "nbformat_minor": 5
}
