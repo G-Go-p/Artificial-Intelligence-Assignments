{
 "cells": [
  {
   "cell_type": "markdown",
   "id": "5f30ac96",
   "metadata": {},
   "source": [
    "# CartPole Agent using Deep Q-Learning\n",
    "\n"
   ]
  },
  {
   "cell_type": "code",
   "execution_count": null,
   "id": "234b5af1",
   "metadata": {},
   "outputs": [],
   "source": [
    "# Install required packages\n",
    "!pip install gym torch numpy matplotlib"
   ]
  },
  {
   "cell_type": "code",
   "execution_count": null,
   "id": "08de5d79",
   "metadata": {},
   "outputs": [],
   "source": [
    "import gym\n",
    "import torch\n",
    "import torch.nn as nn\n",
    "import torch.optim as optim\n",
    "import numpy as np\n",
    "import random\n",
    "from collections import deque\n",
    "import matplotlib.pyplot as plt"
   ]
  },
  {
   "cell_type": "code",
   "execution_count": null,
   "id": "74d03188",
   "metadata": {},
   "outputs": [],
   "source": [
    "# Define Q-network\n",
    "class DQN(nn.Module):\n",
    "    def __init__(self, state_dim, action_dim):\n",
    "        super(DQN, self).__init__()\n",
    "        self.fc = nn.Sequential(\n",
    "            nn.Linear(state_dim, 24),\n",
    "            nn.ReLU(),\n",
    "            nn.Linear(24, 24),\n",
    "            nn.ReLU(),\n",
    "            nn.Linear(24, action_dim)\n",
    "        )\n",
    "\n",
    "    def forward(self, x):\n",
    "        return self.fc(x)"
   ]
  },
  {
   "cell_type": "code",
   "execution_count": null,
   "id": "9337989f",
   "metadata": {},
   "outputs": [],
   "source": [
    "# Replay Buffer and Training Parameters\n",
    "def train():\n",
    "    env = gym.make(\"CartPole-v1\")\n",
    "    state_dim = env.observation_space.shape[0]\n",
    "    action_dim = env.action_space.n\n",
    "\n",
    "    model = DQN(state_dim, action_dim)\n",
    "    optimizer = optim.Adam(model.parameters(), lr=0.001)\n",
    "    criterion = nn.MSELoss()\n",
    "\n",
    "    episodes = 500\n",
    "    gamma = 0.99\n",
    "    epsilon = 1.0\n",
    "    epsilon_min = 0.01\n",
    "    epsilon_decay = 0.995\n",
    "    batch_size = 64\n",
    "    memory = deque(maxlen=10000)\n",
    "    scores = []\n",
    "\n",
    "    for e in range(episodes):\n",
    "        state = env.reset()[0]\n",
    "        state = torch.FloatTensor(state).unsqueeze(0)\n",
    "        total_reward = 0\n",
    "\n",
    "        for time_t in range(200):\n",
    "            if random.random() < epsilon:\n",
    "                action = env.action_space.sample()\n",
    "            else:\n",
    "                with torch.no_grad():\n",
    "                    q_values = model(state)\n",
    "                    action = torch.argmax(q_values).item()\n",
    "\n",
    "            next_state, reward, done, _, _ = env.step(action)\n",
    "            next_state_tensor = torch.FloatTensor(next_state).unsqueeze(0)\n",
    "            memory.append((state, action, reward, next_state_tensor, done))\n",
    "            state = next_state_tensor\n",
    "            total_reward += reward\n",
    "\n",
    "            if done:\n",
    "                break\n",
    "\n",
    "        scores.append(total_reward)\n",
    "\n",
    "        if epsilon > epsilon_min:\n",
    "            epsilon *= epsilon_decay\n",
    "\n",
    "        if len(memory) > batch_size:\n",
    "            minibatch = random.sample(memory, batch_size)\n",
    "            for state_b, action_b, reward_b, next_state_b, done_b in minibatch:\n",
    "                target = reward_b\n",
    "                if not done_b:\n",
    "                    target = reward_b + gamma * torch.max(model(next_state_b)).item()\n",
    "                target_f = model(state_b).detach().clone()\n",
    "                target_f[0][action_b] = target\n",
    "\n",
    "                model.train()\n",
    "                output = model(state_b)\n",
    "                loss = criterion(output, target_f)\n",
    "                optimizer.zero_grad()\n",
    "                loss.backward()\n",
    "                optimizer.step()\n",
    "\n",
    "        if e % 10 == 0:\n",
    "            print(f\"Episode {e}, Score: {total_reward}, Epsilon: {epsilon:.2f}\")\n",
    "\n",
    "    env.close()\n",
    "    return scores\n",
    "\n",
    "scores = train()"
   ]
  },
  {
   "cell_type": "code",
   "execution_count": null,
   "id": "2f1af1b5",
   "metadata": {},
   "outputs": [],
   "source": [
    "# Plot the performance\n",
    "plt.plot(scores)\n",
    "plt.xlabel('Episode')\n",
    "plt.ylabel('Score')\n",
    "plt.title('CartPole DQN Performance')\n",
    "plt.grid(True)\n",
    "plt.show()"
   ]
  }
 ],
 "metadata": {
  "kernelspec": {
   "display_name": "Python 3 (ipykernel)",
   "language": "python",
   "name": "python3"
  },
  "language_info": {
   "codemirror_mode": {
    "name": "ipython",
    "version": 3
   },
   "file_extension": ".py",
   "mimetype": "text/x-python",
   "name": "python",
   "nbconvert_exporter": "python",
   "pygments_lexer": "ipython3",
   "version": "3.11.7"
  }
 },
 "nbformat": 4,
 "nbformat_minor": 5
}
