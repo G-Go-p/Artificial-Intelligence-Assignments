{
 "cells": [
  {
   "cell_type": "code",
   "execution_count": null,
   "id": "3ffd61f9-a5c8-42f5-903a-ff2060d8158c",
   "metadata": {},
   "outputs": [],
   "source": [
    "import numpy as np\n",
    "import matplotlib.pyplot as plt\n",
    "import tensorflow as tf\n",
    "from tensorflow.keras import layers, models\n",
    "from tensorflow.keras.datasets import cifar10"
   ]
  },
  {
   "cell_type": "markdown",
   "id": "d66bdf7a-4bc5-4689-91aa-ed76d48a8039",
   "metadata": {},
   "source": [
    "# Load CIFAR-10 dataset"
   ]
  },
  {
   "cell_type": "code",
   "execution_count": null,
   "id": "254992d1-f9e8-46c0-bfa5-bd4050dd6470",
   "metadata": {},
   "outputs": [],
   "source": [
    "(x_train, _), (x_test, _) = cifar10.load_data()\n",
    "x_train = x_train.astype(\"float32\") / 255.0\n",
    "x_test = x_test.astype(\"float32\") / 255.0\n",
    "\n",
    "input_shape = (32, 32, 3)\n",
    "latent_dim = 64\n",
    "batch_size = 128\n"
   ]
  },
  {
   "cell_type": "markdown",
   "id": "42d6d0f8-a072-49f5-9e62-16eff9659769",
   "metadata": {},
   "source": [
    "# Encoder"
   ]
  },
  {
   "cell_type": "code",
   "execution_count": null,
   "id": "b6a1cd9c-0aa9-4311-b998-e05b640f412b",
   "metadata": {},
   "outputs": [],
   "source": [
    "def build_encoder():\n",
    "    inputs = layers.Input(shape=input_shape)\n",
    "    x = layers.Conv2D(32, 3, activation='relu', strides=2, padding='same')(inputs)\n",
    "    x = layers.Conv2D(64, 3, activation='relu', strides=2, padding='same')(x)\n",
    "    x = layers.Flatten()(x)\n",
    "    x = layers.Dense(128, activation='relu')(x)\n",
    "    z_mean = layers.Dense(latent_dim)(x)\n",
    "    z_log_var = layers.Dense(latent_dim)(x)\n",
    "    return models.Model(inputs, [z_mean, z_log_var], name=\"encoder\")\n"
   ]
  },
  {
   "cell_type": "markdown",
   "id": "5d53870b-22aa-4b00-a529-234f59537ab4",
   "metadata": {},
   "source": [
    "# Sampling layer"
   ]
  },
  {
   "cell_type": "code",
   "execution_count": null,
   "id": "97ef9503-6dd6-4bc1-992c-e105438313c8",
   "metadata": {},
   "outputs": [],
   "source": [
    "class Sampling(layers.Layer):\n",
    "    def call(self, inputs):\n",
    "        z_mean, z_log_var = inputs\n",
    "        epsilon = tf.random.normal(shape=tf.shape(z_mean))\n",
    "        return z_mean + tf.exp(0.5 * z_log_var) * epsilon\n"
   ]
  },
  {
   "cell_type": "markdown",
   "id": "c90b0e84-fc2e-45bb-83c8-76c79a77f958",
   "metadata": {},
   "source": [
    "# Decoder"
   ]
  },
  {
   "cell_type": "code",
   "execution_count": null,
   "id": "ed5a0ad5-4a36-49a7-80cb-c7e04f386c95",
   "metadata": {},
   "outputs": [],
   "source": [
    "def build_decoder():\n",
    "    latent_inputs = layers.Input(shape=(latent_dim,))\n",
    "    x = layers.Dense(8 * 8 * 64, activation='relu')(latent_inputs)\n",
    "    x = layers.Reshape((8, 8, 64))(x)\n",
    "    x = layers.Conv2DTranspose(64, 3, strides=2, activation='relu', padding='same')(x)\n",
    "    x = layers.Conv2DTranspose(32, 3, strides=2, activation='relu', padding='same')(x)\n",
    "    outputs = layers.Conv2DTranspose(3, 3, activation='sigmoid', padding='same')(x)\n",
    "    return models.Model(latent_inputs, outputs, name=\"decoder\")\n"
   ]
  },
  {
   "cell_type": "markdown",
   "id": "ad626a41-e872-43fe-893b-e54143cad390",
   "metadata": {},
   "source": [
    "# VAE model"
   ]
  },
  {
   "cell_type": "code",
   "execution_count": null,
   "id": "70df56fc-e596-4c53-9c63-7725bf3f9efe",
   "metadata": {},
   "outputs": [],
   "source": [
    "class VAE(models.Model):\n",
    "    def __init__(self, encoder, decoder):\n",
    "        super(VAE, self).__init__()\n",
    "        self.encoder = encoder\n",
    "        self.decoder = decoder\n",
    "        self.sampler = Sampling()\n",
    "        self.total_loss_tracker = tf.keras.metrics.Mean(name=\"loss\")\n",
    "\n",
    "    def train_step(self, data):\n",
    "        if isinstance(data, tuple):\n",
    "            data = data[0]\n",
    "        with tf.GradientTape() as tape:\n",
    "            z_mean, z_log_var = self.encoder(data)\n",
    "            z = self.sampler([z_mean, z_log_var])\n",
    "            reconstruction = self.decoder(z)\n",
    "            reconstruction_loss = tf.reduce_mean(\n",
    "                tf.reduce_sum(tf.keras.losses.binary_crossentropy(data, reconstruction), axis=(1, 2, 3)))\n",
    "            kl_loss = -0.5 * tf.reduce_mean(\n",
    "                tf.reduce_sum(1 + z_log_var - tf.square(z_mean) - tf.exp(z_log_var), axis=1))\n",
    "            total_loss = reconstruction_loss + kl_loss\n",
    "        grads = tape.gradient(total_loss, self.trainable_weights)\n",
    "        self.optimizer.apply_gradients(zip(grads, self.trainable_weights))\n",
    "        self.total_loss_tracker.update_state(total_loss)\n",
    "        return {\"loss\": self.total_loss_tracker.result()}\n"
   ]
  },
  {
   "cell_type": "markdown",
   "id": "da7ef256-13ad-4ea7-aa14-378564b52c5a",
   "metadata": {},
   "source": [
    "# Compile and train the model"
   ]
  },
  {
   "cell_type": "code",
   "execution_count": null,
   "id": "a02edf50-e1fa-4982-b3ba-001489059773",
   "metadata": {},
   "outputs": [],
   "source": [
    "encoder = build_encoder()\n",
    "decoder = build_decoder()\n",
    "vae = VAE(encoder, decoder)\n",
    "vae.compile(optimizer='adam')\n",
    "vae.fit(x_train, epochs=30, batch_size=batch_size, validation_data=(x_test, None))\n"
   ]
  },
  {
   "cell_type": "markdown",
   "id": "568adb72-baab-450b-aca8-58bc5851f0d6",
   "metadata": {},
   "source": [
    "# Visualize reconstruction"
   ]
  },
  {
   "cell_type": "code",
   "execution_count": null,
   "id": "7e81eb9c-e8ed-4885-abdd-85ffa0bb339c",
   "metadata": {},
   "outputs": [],
   "source": [
    "def show_reconstruction(model, data=x_test):\n",
    "    z_mean, z_log_var = model.encoder.predict(data[:10])\n",
    "    z = model.sampler([z_mean, z_log_var])\n",
    "    recon = model.decoder.predict(z)\n",
    "\n",
    "    plt.figure(figsize=(20, 4))\n",
    "    for i in range(10):\n",
    "        ax = plt.subplot(2, 10, i + 1)\n",
    "        plt.imshow(data[i])\n",
    "        plt.axis(\"off\")\n",
    "\n",
    "        ax = plt.subplot(2, 10, i + 11)\n",
    "        plt.imshow(recon[i])\n",
    "        plt.axis(\"off\")\n",
    "    plt.show()\n",
    "\n",
    "show_reconstruction(vae)"
   ]
  }
 ],
 "metadata": {
  "kernelspec": {
   "display_name": "Python 3 (ipykernel)",
   "language": "python",
   "name": "python3"
  },
  "language_info": {
   "codemirror_mode": {
    "name": "ipython",
    "version": 3
   },
   "file_extension": ".py",
   "mimetype": "text/x-python",
   "name": "python",
   "nbconvert_exporter": "python",
   "pygments_lexer": "ipython3",
   "version": "3.11.7"
  }
 },
 "nbformat": 4,
 "nbformat_minor": 5
}
